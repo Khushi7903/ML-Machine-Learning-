{
 "cells": [
  {
   "cell_type": "code",
   "execution_count": 1,
   "id": "b7378afb",
   "metadata": {},
   "outputs": [
    {
     "name": "stdout",
     "output_type": "stream",
     "text": [
      "Defaulting to user installation because normal site-packages is not writeable\n",
      "Requirement already satisfied: pandas in c:\\programdata\\anaconda3\\lib\\site-packages (2.0.3)\n",
      "Requirement already satisfied: python-dateutil>=2.8.2 in c:\\programdata\\anaconda3\\lib\\site-packages (from pandas) (2.8.2)\n",
      "Requirement already satisfied: pytz>=2020.1 in c:\\programdata\\anaconda3\\lib\\site-packages (from pandas) (2023.3.post1)\n",
      "Requirement already satisfied: tzdata>=2022.1 in c:\\programdata\\anaconda3\\lib\\site-packages (from pandas) (2023.3)\n",
      "Requirement already satisfied: numpy>=1.21.0 in c:\\programdata\\anaconda3\\lib\\site-packages (from pandas) (1.24.3)\n",
      "Requirement already satisfied: six>=1.5 in c:\\programdata\\anaconda3\\lib\\site-packages (from python-dateutil>=2.8.2->pandas) (1.16.0)\n",
      "Note: you may need to restart the kernel to use updated packages.\n"
     ]
    }
   ],
   "source": [
    "pip install pandas"
   ]
  },
  {
   "cell_type": "code",
   "execution_count": 3,
   "id": "3cd55294",
   "metadata": {},
   "outputs": [
    {
     "name": "stdout",
     "output_type": "stream",
     "text": [
      "2.0.3\n"
     ]
    }
   ],
   "source": [
    "import pandas as pd\n",
    "print(pd.__version__)"
   ]
  },
  {
   "cell_type": "code",
   "execution_count": 4,
   "id": "b044a546",
   "metadata": {},
   "outputs": [
    {
     "name": "stdout",
     "output_type": "stream",
     "text": [
      "0    1\n",
      "1    2\n",
      "2    3\n",
      "3    4\n",
      "dtype: int64\n",
      "<class 'pandas.core.series.Series'>\n"
     ]
    }
   ],
   "source": [
    "# Series(1d)\n",
    "import pandas as pd \n",
    "a=[1,2,3,4]\n",
    "s=pd.Series(a)\n",
    "print(s)\n",
    "print(type(s))"
   ]
  },
  {
   "cell_type": "code",
   "execution_count": 6,
   "id": "714979ce",
   "metadata": {},
   "outputs": [
    {
     "name": "stdout",
     "output_type": "stream",
     "text": [
      "0    [1, 2]\n",
      "1    [3, 4]\n",
      "dtype: object\n",
      "<class 'pandas.core.series.Series'>\n",
      "[1, 2]\n"
     ]
    }
   ],
   "source": [
    "import pandas as pd\n",
    "a=[[1,2],[3,4]]\n",
    "s=pd.Series(a)\n",
    "print(s)\n",
    "print(type(s))\n",
    "print(s[0])"
   ]
  },
  {
   "cell_type": "code",
   "execution_count": 8,
   "id": "e0c5de5c",
   "metadata": {},
   "outputs": [
    {
     "name": "stdout",
     "output_type": "stream",
     "text": [
      "abc    [1, 2]\n",
      "xyz    [3, 4]\n",
      "dtype: object\n",
      "<class 'pandas.core.series.Series'>\n",
      "[1, 2]\n",
      "[3, 4]\n"
     ]
    }
   ],
   "source": [
    "import pandas as pd\n",
    "a=[[1,2],[3,4]]\n",
    "s=pd.Series(a,index=['abc','xyz'])\n",
    "print(s)\n",
    "print(type(s))\n",
    "print(s[0])\n",
    "print(s['xyz'])"
   ]
  },
  {
   "cell_type": "code",
   "execution_count": 9,
   "id": "d28433bd",
   "metadata": {},
   "outputs": [
    {
     "name": "stdout",
     "output_type": "stream",
     "text": [
      "name    [abc]\n",
      "age      [20]\n",
      "dtype: object\n"
     ]
    }
   ],
   "source": [
    "import pandas as pd\n",
    "a={'name':['abc'],'age':[20]}\n",
    "s=pd.Series(a)\n",
    "print(s)"
   ]
  },
  {
   "cell_type": "code",
   "execution_count": 10,
   "id": "043d6caa",
   "metadata": {},
   "outputs": [
    {
     "name": "stdout",
     "output_type": "stream",
     "text": [
      "   0\n",
      "0  1\n",
      "1  2\n",
      "2  3\n",
      "3  4\n",
      "4  5\n"
     ]
    }
   ],
   "source": [
    "# Dataframe(2d)\n",
    "a=[1,2,3,4,5]\n",
    "s=pd.DataFrame(a)\n",
    "print(s)"
   ]
  },
  {
   "cell_type": "code",
   "execution_count": 11,
   "id": "00a787c3",
   "metadata": {},
   "outputs": [
    {
     "name": "stdout",
     "output_type": "stream",
     "text": [
      "   0  1  2\n",
      "0  1  2  3\n",
      "1  4  5  6\n"
     ]
    }
   ],
   "source": [
    "a=[[1,2,3],[4,5,6]]\n",
    "s=pd.DataFrame(a)\n",
    "print(s)"
   ]
  },
  {
   "cell_type": "code",
   "execution_count": 18,
   "id": "e7f1c94f",
   "metadata": {},
   "outputs": [
    {
     "name": "stdout",
     "output_type": "stream",
     "text": [
      "      a  b  c\n",
      "day1  1  2  3\n",
      "day2  4  5  6\n",
      "a    1\n",
      "b    2\n",
      "c    3\n",
      "Name: day1, dtype: int64\n",
      "a    1\n",
      "b    2\n",
      "c    3\n",
      "Name: day1, dtype: int64\n"
     ]
    }
   ],
   "source": [
    "a=[[1,2,3],[4,5,6]]\n",
    "s=pd.DataFrame(a,index=['day1','day2'],columns=['a','b','c'])\n",
    "print(s)\n",
    "print(s.loc['day1'])\n",
    "print(s.iloc[0])"
   ]
  },
  {
   "cell_type": "code",
   "execution_count": 19,
   "id": "fe27e391",
   "metadata": {},
   "outputs": [
    {
     "name": "stdout",
     "output_type": "stream",
     "text": [
      "      a  b  c\n",
      "day1  1  2  3\n",
      "day2  4  5  6\n",
      "      a  b  c\n",
      "day1  1  2  3\n",
      "day2  4  5  6\n",
      "a    1\n",
      "b    2\n",
      "c    3\n",
      "Name: day1, dtype: int64\n"
     ]
    }
   ],
   "source": [
    "a=[[1,2,3],[4,5,6]]\n",
    "s=pd.DataFrame(a,index=['day1','day2'],columns=['a','b','c'])\n",
    "print(s)\n",
    "print(s.loc[['day1','day2']])\n",
    "print(s.iloc[0])"
   ]
  },
  {
   "cell_type": "code",
   "execution_count": 21,
   "id": "e46a4d90",
   "metadata": {},
   "outputs": [
    {
     "name": "stdout",
     "output_type": "stream",
     "text": [
      "      b  c  a\n",
      "day1  2  3  1\n",
      "day2  5  6  4\n",
      "day1    1\n",
      "day2    4\n",
      "Name: a, dtype: int64\n"
     ]
    }
   ],
   "source": [
    "a=[[1,2,3],[4,5,6]]\n",
    "s=pd.DataFrame(a,index=['day1','day2'],columns=['a','b','c'])\n",
    "print(s[['b','c','a']])\n",
    "print(s['a'])"
   ]
  },
  {
   "cell_type": "code",
   "execution_count": 22,
   "id": "734ce81b",
   "metadata": {},
   "outputs": [],
   "source": [
    "# csv (coma seperated value)\n",
    "# json, csv and xml se file ka data milta h"
   ]
  },
  {
   "cell_type": "code",
   "execution_count": 24,
   "id": "d98260f5",
   "metadata": {},
   "outputs": [],
   "source": [
    "df=pd.read_csv('WEATHER.csv')"
   ]
  },
  {
   "cell_type": "code",
   "execution_count": null,
   "id": "67961fcd",
   "metadata": {},
   "outputs": [],
   "source": []
  }
 ],
 "metadata": {
  "kernelspec": {
   "display_name": "Python 3 (ipykernel)",
   "language": "python",
   "name": "python3"
  },
  "language_info": {
   "codemirror_mode": {
    "name": "ipython",
    "version": 3
   },
   "file_extension": ".py",
   "mimetype": "text/x-python",
   "name": "python",
   "nbconvert_exporter": "python",
   "pygments_lexer": "ipython3",
   "version": "3.11.5"
  }
 },
 "nbformat": 4,
 "nbformat_minor": 5
}
