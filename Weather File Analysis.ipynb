{
 "cells": [
  {
   "cell_type": "code",
   "execution_count": 16,
   "id": "a069ec3c",
   "metadata": {},
   "outputs": [
    {
     "name": "stdout",
     "output_type": "stream",
     "text": [
      "         date  temp  windspeed season\n",
      "0   1/12/2023  18.0        NaN   rain\n",
      "1   1/11/2023   NaN        NaN   snow\n",
      "2   1/10/2023  22.0      100.0  sunny\n",
      "3    1/9/2023  30.0       30.0    NaN\n",
      "4    1/8/2023   NaN       20.0    NaN\n",
      "5    1/7/2023   NaN        NaN  sunny\n",
      "6    1/6/2023  40.0       30.0    NaN\n",
      "7    1/5/2023  43.0        NaN    NaN\n",
      "8    1/4/2023   NaN        NaN   cold\n",
      "9    1/3/2023  25.0        5.0    NaN\n",
      "10   1/2/2023  19.0        6.0    hot\n",
      "11   1/1/2023  17.0       10.0    NaN\n"
     ]
    }
   ],
   "source": [
    "import pandas as pd\n",
    "data=pd.read_csv('WEATHER.csv')\n",
    "print(data)"
   ]
  },
  {
   "cell_type": "code",
   "execution_count": 2,
   "id": "d6a93104",
   "metadata": {},
   "outputs": [
    {
     "name": "stdout",
     "output_type": "stream",
     "text": [
      "     date   temp  windspeed  season\n",
      "0   False  False       True   False\n",
      "1   False   True       True   False\n",
      "2   False  False      False   False\n",
      "3   False  False      False    True\n",
      "4   False   True      False    True\n",
      "5   False   True       True   False\n",
      "6   False  False      False    True\n",
      "7   False  False       True    True\n",
      "8   False   True       True   False\n",
      "9   False  False      False    True\n",
      "10  False  False      False   False\n",
      "11  False  False      False    True\n"
     ]
    }
   ],
   "source": [
    "print(data.isna())"
   ]
  },
  {
   "cell_type": "code",
   "execution_count": 3,
   "id": "c705492e",
   "metadata": {},
   "outputs": [
    {
     "name": "stdout",
     "output_type": "stream",
     "text": [
      "date         0\n",
      "temp         4\n",
      "windspeed    5\n",
      "season       6\n",
      "dtype: int64\n"
     ]
    }
   ],
   "source": [
    "print(data.isna().sum())"
   ]
  },
  {
   "cell_type": "code",
   "execution_count": 4,
   "id": "1f1b0598",
   "metadata": {},
   "outputs": [
    {
     "name": "stdout",
     "output_type": "stream",
     "text": [
      "         date  temp  windspeed season\n",
      "2   1/10/2023  22.0      100.0  sunny\n",
      "10   1/2/2023  19.0        6.0    hot\n"
     ]
    }
   ],
   "source": [
    "new_data=data.dropna()\n",
    "print(new_data)"
   ]
  },
  {
   "cell_type": "code",
   "execution_count": 20,
   "id": "a955f005",
   "metadata": {},
   "outputs": [
    {
     "name": "stdout",
     "output_type": "stream",
     "text": [
      "         date  temp  windspeed season\n",
      "0   1/12/2023  18.0       40.0   rain\n",
      "1   1/11/2023  40.0       40.0   snow\n",
      "2   1/10/2023  22.0      100.0  sunny\n",
      "3    1/9/2023  30.0       30.0     40\n",
      "4    1/8/2023  40.0       20.0     40\n",
      "5    1/7/2023  40.0       40.0  sunny\n",
      "6    1/6/2023  40.0       30.0     40\n",
      "7    1/5/2023  43.0       40.0     40\n",
      "8    1/4/2023  40.0       40.0   cold\n",
      "9    1/3/2023  25.0        5.0     40\n",
      "10   1/2/2023  19.0        6.0    hot\n",
      "11   1/1/2023  17.0       10.0     40\n",
      "         date  temp  windspeed season\n",
      "0   1/12/2023  18.0       40.0   rain\n",
      "1   1/11/2023  40.0       40.0   snow\n",
      "2   1/10/2023  22.0      100.0  sunny\n",
      "3    1/9/2023  30.0       30.0     40\n",
      "4    1/8/2023  40.0       20.0     40\n",
      "5    1/7/2023  40.0       40.0  sunny\n",
      "6    1/6/2023  40.0       30.0     40\n",
      "7    1/5/2023  43.0       40.0     40\n",
      "8    1/4/2023  40.0       40.0   cold\n",
      "9    1/3/2023  25.0        5.0     40\n",
      "10   1/2/2023  19.0        6.0    hot\n",
      "11   1/1/2023  17.0       10.0     40\n"
     ]
    }
   ],
   "source": [
    "print(data)\n",
    "data=data.fillna(40)\n",
    "print(data)"
   ]
  },
  {
   "cell_type": "code",
   "execution_count": 2,
   "id": "74306667",
   "metadata": {},
   "outputs": [
    {
     "name": "stdout",
     "output_type": "stream",
     "text": [
      "         date   temp  windspeed season\n",
      "0   1/12/2023   18.0       20.0   rain\n",
      "1   1/11/2023  400.0       20.0   snow\n",
      "2   1/10/2023   22.0      100.0  sunny\n",
      "3    1/9/2023   30.0       30.0    fog\n",
      "4    1/8/2023  400.0       20.0    fog\n",
      "5    1/7/2023  400.0       20.0  sunny\n",
      "6    1/6/2023   40.0       30.0    fog\n",
      "7    1/5/2023   43.0       20.0    fog\n",
      "8    1/4/2023  400.0       20.0   cold\n",
      "9    1/3/2023   25.0        5.0    fog\n",
      "10   1/2/2023   19.0        6.0    hot\n",
      "11   1/1/2023   17.0       10.0    fog\n"
     ]
    }
   ],
   "source": [
    "data=data.fillna({'temp':400,'windspeed':20,'season':'fog'})\n",
    "print(data)"
   ]
  },
  {
   "cell_type": "code",
   "execution_count": 4,
   "id": "0a56cfa3",
   "metadata": {},
   "outputs": [
    {
     "name": "stdout",
     "output_type": "stream",
     "text": [
      "         date  temp  windspeed season\n",
      "0   1/12/2023  18.0        NaN   rain\n",
      "1   1/11/2023  18.0        NaN   snow\n",
      "2   1/10/2023  22.0      100.0  sunny\n",
      "3    1/9/2023  30.0       30.0  sunny\n",
      "4    1/8/2023  30.0       20.0  sunny\n",
      "5    1/7/2023  30.0       20.0  sunny\n",
      "6    1/6/2023  40.0       30.0  sunny\n",
      "7    1/5/2023  43.0       30.0  sunny\n",
      "8    1/4/2023  43.0       30.0   cold\n",
      "9    1/3/2023  25.0        5.0   cold\n",
      "10   1/2/2023  19.0        6.0    hot\n",
      "11   1/1/2023  17.0       10.0    hot\n"
     ]
    }
   ],
   "source": [
    "data=data.fillna(method='ffill')\n",
    "print(data)"
   ]
  },
  {
   "cell_type": "code",
   "execution_count": 5,
   "id": "3e1c08f8",
   "metadata": {},
   "outputs": [
    {
     "name": "stdout",
     "output_type": "stream",
     "text": [
      "         date  temp  windspeed season\n",
      "0   1/12/2023  18.0      100.0   rain\n",
      "1   1/11/2023  18.0      100.0   snow\n",
      "2   1/10/2023  22.0      100.0  sunny\n",
      "3    1/9/2023  30.0       30.0  sunny\n",
      "4    1/8/2023  30.0       20.0  sunny\n",
      "5    1/7/2023  30.0       20.0  sunny\n",
      "6    1/6/2023  40.0       30.0  sunny\n",
      "7    1/5/2023  43.0       30.0  sunny\n",
      "8    1/4/2023  43.0       30.0   cold\n",
      "9    1/3/2023  25.0        5.0   cold\n",
      "10   1/2/2023  19.0        6.0    hot\n",
      "11   1/1/2023  17.0       10.0    hot\n"
     ]
    }
   ],
   "source": [
    "data=data.fillna(method='bfill')\n",
    "print(data)"
   ]
  },
  {
   "cell_type": "code",
   "execution_count": 6,
   "id": "54fdfb6d",
   "metadata": {},
   "outputs": [
    {
     "name": "stdout",
     "output_type": "stream",
     "text": [
      "         date  temp  windspeed season\n",
      "0   1/12/2023  18.0      100.0   rain\n",
      "1   1/11/2023  18.0      100.0   snow\n",
      "2   1/10/2023  22.0      100.0  sunny\n",
      "3    1/9/2023  30.0       30.0  sunny\n",
      "4    1/8/2023  30.0       20.0  sunny\n",
      "5    1/7/2023  30.0       20.0  sunny\n",
      "6    1/6/2023  40.0       30.0  sunny\n",
      "7    1/5/2023  43.0       30.0  sunny\n",
      "8    1/4/2023  43.0       30.0   cold\n",
      "9    1/3/2023  25.0        5.0   cold\n",
      "10   1/2/2023  19.0        6.0    hot\n",
      "11   1/1/2023  17.0       10.0    hot\n"
     ]
    }
   ],
   "source": [
    "data=data.interpolate()          #####\n",
    "print(data)"
   ]
  },
  {
   "cell_type": "code",
   "execution_count": 7,
   "id": "88ec2594",
   "metadata": {},
   "outputs": [
    {
     "name": "stdout",
     "output_type": "stream",
     "text": [
      "['rain' 'snow' 'sunny' 'cold' 'hot']\n"
     ]
    }
   ],
   "source": [
    "print(data['season'].unique())"
   ]
  },
  {
   "cell_type": "code",
   "execution_count": 8,
   "id": "687967b3",
   "metadata": {},
   "outputs": [
    {
     "name": "stdout",
     "output_type": "stream",
     "text": [
      "         date  temp  windspeed season\n",
      "0   1/12/2023  18.0      100.0   rain\n",
      "1   1/11/2023  18.0      100.0   snow\n",
      "2   1/10/2023  22.0      100.0  sunny\n",
      "3    1/9/2023  30.0       30.0  sunny\n",
      "4    1/8/2023  30.0       20.0  sunny\n",
      "5    1/7/2023  30.0       20.0  sunny\n",
      "6    1/6/2023  40.0       30.0  sunny\n",
      "7    1/5/2023  43.0       30.0  sunny\n",
      "8    1/4/2023  43.0       30.0   cold\n",
      "9    1/3/2023  25.0       50.0   cold\n",
      "10   1/2/2023  19.0        6.0    hot\n",
      "11   1/1/2023  17.0       10.0    hot\n"
     ]
    }
   ],
   "source": [
    "data.loc[9,'windspeed']=50\n",
    "print(data)"
   ]
  },
  {
   "cell_type": "code",
   "execution_count": 12,
   "id": "9cf0f0cb",
   "metadata": {},
   "outputs": [
    {
     "name": "stdout",
     "output_type": "stream",
     "text": [
      "         date  temp  windspeed  season\n",
      "0   1/12/2023  18.0        NaN    rain\n",
      "1   1/11/2023   NaN        NaN    snow\n",
      "2   1/10/2023  22.0      100.0   sunny\n",
      "3    1/9/2023  30.0       30.0     NaN\n",
      "4    1/8/2023   NaN       20.0     NaN\n",
      "5    1/7/2023   NaN        NaN   sunny\n",
      "6    1/6/2023  40.0       30.0     NaN\n",
      "7    1/5/2023  43.0        NaN     NaN\n",
      "8    1/4/2023   NaN        NaN  winter\n",
      "9    1/3/2023  25.0        5.0     NaN\n",
      "10   1/2/2023  19.0        6.0     hot\n",
      "11   1/1/2023  17.0       10.0     NaN\n"
     ]
    }
   ],
   "source": [
    "for x in data.index:\n",
    "    if data.loc[x,'season']=='cold':\n",
    "        data.loc[x,'season']='winter'\n",
    "print(data)"
   ]
  },
  {
   "cell_type": "code",
   "execution_count": 19,
   "id": "29be7223",
   "metadata": {},
   "outputs": [
    {
     "name": "stdout",
     "output_type": "stream",
     "text": [
      "    index       date  temp  windspeed season\n",
      "0       0  1/12/2023  18.0        NaN   rain\n",
      "1       1  1/11/2023   NaN        NaN   snow\n",
      "2       2  1/10/2023  22.0      100.0  sunny\n",
      "3       3   1/9/2023  30.0       30.0    NaN\n",
      "4       4   1/8/2023   NaN       20.0    NaN\n",
      "5       5   1/7/2023   NaN        NaN  sunny\n",
      "6       6   1/6/2023  40.0       30.0    NaN\n",
      "7       7   1/5/2023  43.0        NaN    NaN\n",
      "8       9   1/3/2023  25.0        5.0    NaN\n",
      "9      10   1/2/2023  19.0        6.0    hot\n",
      "10     11   1/1/2023  17.0       10.0    NaN\n"
     ]
    }
   ],
   "source": [
    "data.drop(8,inplace=True)            #inplace?\n",
    "data.reset_index(inplace=True)\n",
    "print(data)"
   ]
  },
  {
   "cell_type": "code",
   "execution_count": 20,
   "id": "e5290b39",
   "metadata": {},
   "outputs": [
    {
     "name": "stdout",
     "output_type": "stream",
     "text": [
      "         date  temp  windspeed season\n",
      "0   1/12/2023  18.0        NaN   rain\n",
      "1   1/11/2023   NaN        NaN   snow\n",
      "2   1/10/2023  22.0      100.0  sunny\n",
      "3    1/9/2023  30.0       30.0    NaN\n",
      "4    1/8/2023   NaN       20.0    NaN\n",
      "5    1/7/2023   NaN        NaN  sunny\n",
      "6    1/6/2023  40.0       30.0    NaN\n",
      "7    1/5/2023  43.0        NaN    NaN\n",
      "8    1/3/2023  25.0        5.0    NaN\n",
      "9    1/2/2023  19.0        6.0    hot\n",
      "10   1/1/2023  17.0       10.0    NaN\n"
     ]
    }
   ],
   "source": [
    "data=data.drop('index',axis=1)\n",
    "print(data)"
   ]
  },
  {
   "cell_type": "code",
   "execution_count": 21,
   "id": "c8927c10",
   "metadata": {},
   "outputs": [
    {
     "name": "stdout",
     "output_type": "stream",
     "text": [
      "           temp  windspeed season\n",
      "date                             \n",
      "1/12/2023  18.0        NaN   rain\n",
      "1/11/2023   NaN        NaN   snow\n",
      "1/10/2023  22.0      100.0  sunny\n",
      "1/9/2023   30.0       30.0    NaN\n",
      "1/8/2023    NaN       20.0    NaN\n",
      "1/7/2023    NaN        NaN  sunny\n",
      "1/6/2023   40.0       30.0    NaN\n",
      "1/5/2023   43.0        NaN    NaN\n",
      "1/3/2023   25.0        5.0    NaN\n",
      "1/2/2023   19.0        6.0    hot\n",
      "1/1/2023   17.0       10.0    NaN\n"
     ]
    }
   ],
   "source": [
    "data.set_index(['date'],inplace=True)\n",
    "print(data)"
   ]
  }
 ],
 "metadata": {
  "kernelspec": {
   "display_name": "Python 3 (ipykernel)",
   "language": "python",
   "name": "python3"
  },
  "language_info": {
   "codemirror_mode": {
    "name": "ipython",
    "version": 3
   },
   "file_extension": ".py",
   "mimetype": "text/x-python",
   "name": "python",
   "nbconvert_exporter": "python",
   "pygments_lexer": "ipython3",
   "version": "3.11.5"
  }
 },
 "nbformat": 4,
 "nbformat_minor": 5
}
